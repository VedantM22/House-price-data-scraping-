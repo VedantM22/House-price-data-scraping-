{
 "cells": [
  {
   "cell_type": "code",
   "execution_count": 1,
   "id": "87b3768c",
   "metadata": {},
   "outputs": [],
   "source": [
    "import requests\n",
    "from bs4 import BeautifulSoup\n",
    "import pandas as pd\n",
    "import regex as re\n",
    "from tqdm import tqdm\n",
    "\n",
    "# Define the headers\n",
    "header = ({'User-Agent':'Mozilla/5.0 (Windows NT 10.0; Win64; x64) AppleWebKit/537.36 (KHTML, like Gecko) Chrome/115.0.0.0 Safari/537.36' ,'Accept-Language': 'en-US, en;q=0.5'})"
   ]
  },
  {
   "cell_type": "code",
   "execution_count": 2,
   "id": "9d2b1025",
   "metadata": {},
   "outputs": [],
   "source": [
    "url = 'https://www.magicbricks.com/ready-to-move-flats-in-mumbai-pppfs'"
   ]
  },
  {
   "cell_type": "code",
   "execution_count": 3,
   "id": "7dfdf2d3",
   "metadata": {},
   "outputs": [],
   "source": [
    "web = requests.get(url , header)"
   ]
  },
  {
   "cell_type": "code",
   "execution_count": 4,
   "id": "76ce8e2a",
   "metadata": {},
   "outputs": [],
   "source": [
    "soup = BeautifulSoup(web.text , 'html.parser')"
   ]
  },
  {
   "cell_type": "code",
   "execution_count": 10,
   "id": "5e4e79d9",
   "metadata": {},
   "outputs": [],
   "source": [
    "d={'bedrooms':[],'balcony':[],'sqft':[],'floor':[],'facing':[],'furniture':[],'age':[],'location':[],'price':[]}"
   ]
  },
  {
   "cell_type": "code",
   "execution_count": 6,
   "id": "d79f4d0f",
   "metadata": {},
   "outputs": [
    {
     "name": "stderr",
     "output_type": "stream",
     "text": [
      "100%|████████████████████████████████████████████████████████████████████████████████| 999/999 [23:37<00:00,  1.42s/it]\n"
     ]
    }
   ],
   "source": [
    "links=[]\n",
    "for j in tqdm(range(1,1000)):\n",
    "    header = ({'User-Agent':'Mozilla/5.0 (Windows NT 10.0; Win64; x64) AppleWebKit/537.36 (KHTML, like Gecko) Chrome/115.0.0.0 Safari/537.36' ,'Accept-Language': 'en-US, en;q=0.5'})\n",
    "    url = f'https://www.magicbricks.com/ready-to-move-flats-in-mumbai-pppfs/page-{j}'\n",
    "    web = requests.get(url , header)\n",
    "    soup = BeautifulSoup(web.text , 'html.parser')\n",
    "    \n",
    "    sqft=soup.find('div' ,class_='mb-srp__card__summary--value')\n",
    "    \n",
    "\n",
    "    for i in range(1,30):\n",
    "        script_tag = soup.findAll('script', attrs={'type': 'application/ld+json'})[i]\n",
    "        script_text = script_tag.text\n",
    "        url_match = re.search(r'\"url\":\"(https:\\/\\/www\\.magicbricks\\.com\\/propertyDetails\\/[^\"]+)\"', script_text)\n",
    "        if url_match:\n",
    "            url = url_match.group(1)      \n",
    "            links.append(url)\n",
    "        else:\n",
    "            continue\n",
    "                   "
   ]
  },
  {
   "cell_type": "code",
   "execution_count": 7,
   "id": "9c76ab8e",
   "metadata": {},
   "outputs": [
    {
     "data": {
      "text/plain": [
       "10109"
      ]
     },
     "execution_count": 7,
     "metadata": {},
     "output_type": "execute_result"
    }
   ],
   "source": [
    "len(links)"
   ]
  },
  {
   "cell_type": "code",
   "execution_count": 11,
   "id": "b08f981c",
   "metadata": {},
   "outputs": [
    {
     "name": "stderr",
     "output_type": "stream",
     "text": [
      "Scraping:: 100%|███████████████████████████████████████████████████████████████| 10109/10109 [3:16:45<00:00,  1.17s/it]\n"
     ]
    }
   ],
   "source": [
    "for i in tqdm(links,'Scraping:'):\n",
    "    web=requests.get(i,header)\n",
    "    soup=BeautifulSoup(web.content , 'html.parser')\n",
    "\n",
    "    a=soup.find_all('div', class_='mb-ldp__dtls__body__list--value')\n",
    "    \n",
    "    b=soup.findAll('li', class_='mb-ldp__dtls__body__summary--item')\n",
    "\n",
    "    bed=[]\n",
    "    ##bath=[]\n",
    "    balcony=[]\n",
    "    flr=[]\n",
    "    facing=[]\n",
    "    furniture=[]\n",
    "    age=[]\n",
    "\n",
    "    sqft=soup.find('div', class_='mb-ldp__dtls__body__list--value')\n",
    "    location=soup.find('a',class_='mb-ldp__dtls__title--link')\n",
    "    price=soup.find('div', class_='mb-ldp__dtls__price')\n",
    "    \n",
    "    for i in range(len(a)):\n",
    "        if 'Floors' in a[i].text:\n",
    "            flr.append(a[i].text.strip())\n",
    "        elif 'years' in a[i].text:\n",
    "            age.append(a[i].text.strip())\n",
    "        elif 'furnished'in a[i].text.lower():\n",
    "            furniture.append(a[i].text.strip())\n",
    "        elif 'East' in a[i].text or 'West' in a[i].text or 'North' in a[i].text or 'South' in a[i].text:\n",
    "            facing.append(a[i].text.strip())\n",
    "            \n",
    "    for i in range(len(b)):\n",
    "        if 'Bed' in b[i].text:\n",
    "            bed.append(b[i].text.strip())\n",
    "        #elif 'Bath' in b[i].text:\n",
    "          #  bath.append(b[i].text.strip())\n",
    "        elif 'Balconies' in b[i].text:\n",
    "            balcony.append(b[i].text.strip())\n",
    "\n",
    "\n",
    "    bed = bed if bed else 'NA' \n",
    "    #bath = bath if bath else 'NA'  \n",
    "    balcony = balcony if balcony else 'NA' \n",
    "    flr= flr if flr else 'NA'\n",
    "    facing = facing if facing else 'NA' \n",
    "    furniture = furniture if furniture else 'NA'\n",
    "    age = age if age else 'NA' \n",
    "    sqft = sqft.text.strip()[:8]  if sqft else 'NA' \n",
    "    location = location.text.strip() if location else 'NA'\n",
    "    price = price.text.strip() if price else 'NA'\n",
    "    \n",
    "            \n",
    "    d['bedrooms'].append(bed)\n",
    "    #d['bathrooms'].append(bath)\n",
    "    d['balcony'].append(balcony)\n",
    "    d['floor'].append(flr)\n",
    "    d['facing'].append(facing)\n",
    "    d['furniture'].append(furniture)\n",
    "    d['age'].append(age)\n",
    "    d['sqft'].append(sqft)\n",
    "    d['location'].append(location)\n",
    "    d['price'].append(price)\n",
    "    "
   ]
  },
  {
   "cell_type": "code",
   "execution_count": 12,
   "id": "d876cd38",
   "metadata": {},
   "outputs": [],
   "source": [
    "df=pd.DataFrame(d)"
   ]
  },
  {
   "cell_type": "code",
   "execution_count": 13,
   "id": "1073d8c6",
   "metadata": {},
   "outputs": [
    {
     "data": {
      "text/html": [
       "<div>\n",
       "<style scoped>\n",
       "    .dataframe tbody tr th:only-of-type {\n",
       "        vertical-align: middle;\n",
       "    }\n",
       "\n",
       "    .dataframe tbody tr th {\n",
       "        vertical-align: top;\n",
       "    }\n",
       "\n",
       "    .dataframe thead th {\n",
       "        text-align: right;\n",
       "    }\n",
       "</style>\n",
       "<table border=\"1\" class=\"dataframe\">\n",
       "  <thead>\n",
       "    <tr style=\"text-align: right;\">\n",
       "      <th></th>\n",
       "      <th>bedrooms</th>\n",
       "      <th>balcony</th>\n",
       "      <th>sqft</th>\n",
       "      <th>floor</th>\n",
       "      <th>facing</th>\n",
       "      <th>furniture</th>\n",
       "      <th>age</th>\n",
       "      <th>location</th>\n",
       "      <th>price</th>\n",
       "    </tr>\n",
       "  </thead>\n",
       "  <tbody>\n",
       "    <tr>\n",
       "      <th>0</th>\n",
       "      <td>[1Bed]</td>\n",
       "      <td>NA</td>\n",
       "      <td>430sqfts</td>\n",
       "      <td>[22 (Out of 22 Floors)]</td>\n",
       "      <td>[East]</td>\n",
       "      <td>[Unfurnished]</td>\n",
       "      <td>NA</td>\n",
       "      <td>Malad East, Mumbai</td>\n",
       "      <td>₹95.0 Lac</td>\n",
       "    </tr>\n",
       "    <tr>\n",
       "      <th>1</th>\n",
       "      <td>[2Beds]</td>\n",
       "      <td>NA</td>\n",
       "      <td>845sqfts</td>\n",
       "      <td>[4 (Out of 8 Floors)]</td>\n",
       "      <td>NA</td>\n",
       "      <td>[Furnished]</td>\n",
       "      <td>NA</td>\n",
       "      <td>Andheri West, Mumbai</td>\n",
       "      <td>₹1.95 Cr</td>\n",
       "    </tr>\n",
       "    <tr>\n",
       "      <th>2</th>\n",
       "      <td>NA</td>\n",
       "      <td>NA</td>\n",
       "      <td>1650sqft</td>\n",
       "      <td>[1 (Out of 7 Floors)]</td>\n",
       "      <td>NA</td>\n",
       "      <td>[Furnished]</td>\n",
       "      <td>NA</td>\n",
       "      <td>Juhu, Mumbai</td>\n",
       "      <td>₹7.50 Cr</td>\n",
       "    </tr>\n",
       "    <tr>\n",
       "      <th>3</th>\n",
       "      <td>NA</td>\n",
       "      <td>NA</td>\n",
       "      <td>2700sqft</td>\n",
       "      <td>[2 (Out of 10 Floors)]</td>\n",
       "      <td>[East]</td>\n",
       "      <td>[Furnished]</td>\n",
       "      <td>NA</td>\n",
       "      <td>Walkeshwar, Mumbai</td>\n",
       "      <td>₹27.0 Cr</td>\n",
       "    </tr>\n",
       "    <tr>\n",
       "      <th>4</th>\n",
       "      <td>NA</td>\n",
       "      <td>NA</td>\n",
       "      <td>1300sqft</td>\n",
       "      <td>[10 (Out of 11 Floors)]</td>\n",
       "      <td>[West]</td>\n",
       "      <td>[Semi-Furnished]</td>\n",
       "      <td>NA</td>\n",
       "      <td>Borivali West, Mumbai</td>\n",
       "      <td>₹5.0 Cr</td>\n",
       "    </tr>\n",
       "    <tr>\n",
       "      <th>...</th>\n",
       "      <td>...</td>\n",
       "      <td>...</td>\n",
       "      <td>...</td>\n",
       "      <td>...</td>\n",
       "      <td>...</td>\n",
       "      <td>...</td>\n",
       "      <td>...</td>\n",
       "      <td>...</td>\n",
       "      <td>...</td>\n",
       "    </tr>\n",
       "    <tr>\n",
       "      <th>10104</th>\n",
       "      <td>[2Beds]</td>\n",
       "      <td>NA</td>\n",
       "      <td>510sqfts</td>\n",
       "      <td>[18 (Out of 18 Floors)]</td>\n",
       "      <td>[West]</td>\n",
       "      <td>[Unfurnished]</td>\n",
       "      <td>[Less than 5 years]</td>\n",
       "      <td>Tagore Nagar, Mumbai</td>\n",
       "      <td>₹98.0 Lac</td>\n",
       "    </tr>\n",
       "    <tr>\n",
       "      <th>10105</th>\n",
       "      <td>[2Beds]</td>\n",
       "      <td>NA</td>\n",
       "      <td>840sqfts</td>\n",
       "      <td>[Ground (Out of 4 Floors)]</td>\n",
       "      <td>NA</td>\n",
       "      <td>[Semi-Furnished]</td>\n",
       "      <td>NA</td>\n",
       "      <td>Vile Parle East, Mumbai</td>\n",
       "      <td>₹1.50 Cr</td>\n",
       "    </tr>\n",
       "    <tr>\n",
       "      <th>10106</th>\n",
       "      <td>[2Beds]</td>\n",
       "      <td>NA</td>\n",
       "      <td>575sqfts</td>\n",
       "      <td>[1 (Out of 4 Floors)]</td>\n",
       "      <td>[East]</td>\n",
       "      <td>[Semi-Furnished]</td>\n",
       "      <td>[10 to 15 years]</td>\n",
       "      <td>Mira Road, Mumbai</td>\n",
       "      <td>₹68.5 Lac</td>\n",
       "    </tr>\n",
       "    <tr>\n",
       "      <th>10107</th>\n",
       "      <td>[1Bed]</td>\n",
       "      <td>NA</td>\n",
       "      <td>368sqfts</td>\n",
       "      <td>[6 (Out of 6 Floors)]</td>\n",
       "      <td>[South]</td>\n",
       "      <td>[Unfurnished]</td>\n",
       "      <td>[15 to 20 years]</td>\n",
       "      <td>Goregaon East, Mumbai</td>\n",
       "      <td>₹1.10 Cr</td>\n",
       "    </tr>\n",
       "    <tr>\n",
       "      <th>10108</th>\n",
       "      <td>NA</td>\n",
       "      <td>NA</td>\n",
       "      <td>1100sqft</td>\n",
       "      <td>[7 (Out of 29 Floors)]</td>\n",
       "      <td>[North]</td>\n",
       "      <td>[Unfurnished]</td>\n",
       "      <td>NA</td>\n",
       "      <td>Lokhandwala Complex Andheri West, Mumbai</td>\n",
       "      <td>₹5.0 Cr</td>\n",
       "    </tr>\n",
       "  </tbody>\n",
       "</table>\n",
       "<p>10109 rows × 9 columns</p>\n",
       "</div>"
      ],
      "text/plain": [
       "      bedrooms balcony      sqft                       floor   facing  \\\n",
       "0       [1Bed]      NA  430sqfts     [22 (Out of 22 Floors)]   [East]   \n",
       "1      [2Beds]      NA  845sqfts       [4 (Out of 8 Floors)]       NA   \n",
       "2           NA      NA  1650sqft       [1 (Out of 7 Floors)]       NA   \n",
       "3           NA      NA  2700sqft      [2 (Out of 10 Floors)]   [East]   \n",
       "4           NA      NA  1300sqft     [10 (Out of 11 Floors)]   [West]   \n",
       "...        ...     ...       ...                         ...      ...   \n",
       "10104  [2Beds]      NA  510sqfts     [18 (Out of 18 Floors)]   [West]   \n",
       "10105  [2Beds]      NA  840sqfts  [Ground (Out of 4 Floors)]       NA   \n",
       "10106  [2Beds]      NA  575sqfts       [1 (Out of 4 Floors)]   [East]   \n",
       "10107   [1Bed]      NA  368sqfts       [6 (Out of 6 Floors)]  [South]   \n",
       "10108       NA      NA  1100sqft      [7 (Out of 29 Floors)]  [North]   \n",
       "\n",
       "              furniture                  age  \\\n",
       "0         [Unfurnished]                   NA   \n",
       "1           [Furnished]                   NA   \n",
       "2           [Furnished]                   NA   \n",
       "3           [Furnished]                   NA   \n",
       "4      [Semi-Furnished]                   NA   \n",
       "...                 ...                  ...   \n",
       "10104     [Unfurnished]  [Less than 5 years]   \n",
       "10105  [Semi-Furnished]                   NA   \n",
       "10106  [Semi-Furnished]     [10 to 15 years]   \n",
       "10107     [Unfurnished]     [15 to 20 years]   \n",
       "10108     [Unfurnished]                   NA   \n",
       "\n",
       "                                       location      price  \n",
       "0                            Malad East, Mumbai  ₹95.0 Lac  \n",
       "1                          Andheri West, Mumbai   ₹1.95 Cr  \n",
       "2                                  Juhu, Mumbai   ₹7.50 Cr  \n",
       "3                            Walkeshwar, Mumbai   ₹27.0 Cr  \n",
       "4                         Borivali West, Mumbai    ₹5.0 Cr  \n",
       "...                                         ...        ...  \n",
       "10104                      Tagore Nagar, Mumbai  ₹98.0 Lac  \n",
       "10105                   Vile Parle East, Mumbai   ₹1.50 Cr  \n",
       "10106                         Mira Road, Mumbai  ₹68.5 Lac  \n",
       "10107                     Goregaon East, Mumbai   ₹1.10 Cr  \n",
       "10108  Lokhandwala Complex Andheri West, Mumbai    ₹5.0 Cr  \n",
       "\n",
       "[10109 rows x 9 columns]"
      ]
     },
     "execution_count": 13,
     "metadata": {},
     "output_type": "execute_result"
    }
   ],
   "source": [
    "df"
   ]
  },
  {
   "cell_type": "code",
   "execution_count": 14,
   "id": "2d5cf6c6",
   "metadata": {},
   "outputs": [],
   "source": [
    "df.to_csv('tst_house.csv')"
   ]
  },
  {
   "cell_type": "code",
   "execution_count": null,
   "id": "154b99a9",
   "metadata": {},
   "outputs": [],
   "source": []
  },
  {
   "cell_type": "code",
   "execution_count": null,
   "id": "725268c1",
   "metadata": {},
   "outputs": [],
   "source": [
    "df['bedrooms']=df['bedrooms'].apply(lambda x : re.sub('[^0-9]','', str(x)) if x!='NA' else 'NA')"
   ]
  },
  {
   "cell_type": "markdown",
   "id": "e99e3e00",
   "metadata": {},
   "source": [
    "# trying on internal link (soup2) to see if we are scraping the right things"
   ]
  },
  {
   "cell_type": "code",
   "execution_count": 9,
   "id": "0a0e1de8",
   "metadata": {},
   "outputs": [],
   "source": [
    "url2='https://www.magicbricks.com/propertyDetails/1-BHK-450-Sq-ft-Multistorey-Apartment-FOR-Sale-Naigaon-West-in-Mumbai&id=4d423339373930353631'"
   ]
  },
  {
   "cell_type": "code",
   "execution_count": 10,
   "id": "ab8ff0b0",
   "metadata": {},
   "outputs": [],
   "source": [
    "web2 = requests.get(url2 , header)\n",
    "soup2 = BeautifulSoup(web2.content , 'html.parser')"
   ]
  },
  {
   "cell_type": "code",
   "execution_count": 12,
   "id": "b83bcfb0",
   "metadata": {},
   "outputs": [
    {
     "data": {
      "text/plain": [
       "'Naigaon West, Mumbai'"
      ]
     },
     "execution_count": 12,
     "metadata": {},
     "output_type": "execute_result"
    }
   ],
   "source": [
    "soup2.find('a',class_='mb-ldp__dtls__title--link').text.strip()"
   ]
  },
  {
   "cell_type": "code",
   "execution_count": 23,
   "id": "d743c73c",
   "metadata": {},
   "outputs": [],
   "source": [
    "soup2.find('a', class_='mb-ldp__dtls__body__list--value')"
   ]
  },
  {
   "cell_type": "code",
   "execution_count": 187,
   "id": "f2bd15fd",
   "metadata": {},
   "outputs": [],
   "source": [
    "flr=[]\n",
    "facing=[]\n",
    "furniture=[]\n",
    "age=[]\n",
    "\n",
    "a=soup2.find_all('div', class_='mb-ldp__dtls__body__list--value')\n",
    "\n",
    "sqft=soup2.find('div', class_='mb-ldp__dtls__body__list--value').text.strip()[:8]\n",
    "\n",
    "for i in range(len(a)):\n",
    "    if 'Floors' in a[i].text:\n",
    "        flr.append(a[i].text)\n",
    "    elif 'years' in a[i].text:\n",
    "        age.append(a[i].text)\n",
    "    elif 'furnished'in a[i].text.lower():\n",
    "        furniture.append(a[i].text)\n",
    "    elif 'East' in a[i].text or 'West' in a[i].text:\n",
    "        facing.append(a[i].text)\n"
   ]
  },
  {
   "cell_type": "code",
   "execution_count": 189,
   "id": "3a877985",
   "metadata": {},
   "outputs": [
    {
     "data": {
      "text/plain": [
       "['1 (Out of 7 Floors)']"
      ]
     },
     "execution_count": 189,
     "metadata": {},
     "output_type": "execute_result"
    }
   ],
   "source": [
    "flr"
   ]
  },
  {
   "cell_type": "code",
   "execution_count": 217,
   "id": "6886c19c",
   "metadata": {},
   "outputs": [
    {
     "data": {
      "text/plain": [
       "True"
      ]
     },
     "execution_count": 217,
     "metadata": {},
     "output_type": "execute_result"
    }
   ],
   "source": [
    "soup2.findAll('li', class_='mb-ldp__dtls__body__summary--item')[1].text"
   ]
  },
  {
   "cell_type": "code",
   "execution_count": 222,
   "id": "910e965c",
   "metadata": {},
   "outputs": [],
   "source": [
    "bed=[]\n",
    "bath=[]\n",
    "balcony=[]\n",
    "\n",
    "b=soup2.findAll('li', class_='mb-ldp__dtls__body__summary--item')\n",
    "\n",
    "for i in range(len(main2)):\n",
    "    if 'Bed' in b[i].text:\n",
    "        bed.append(b[i].text)\n",
    "    elif 'Bath' in b[i].text:\n",
    "        bath.append(b[i].text)\n",
    "    elif 'Balconies' in b[i].text:\n",
    "        balcony.append(b[i].text)\n"
   ]
  },
  {
   "cell_type": "code",
   "execution_count": 225,
   "id": "b19e0f80",
   "metadata": {},
   "outputs": [
    {
     "data": {
      "text/plain": [
       "[]"
      ]
     },
     "execution_count": 225,
     "metadata": {},
     "output_type": "execute_result"
    }
   ],
   "source": [
    "balcony"
   ]
  },
  {
   "cell_type": "code",
   "execution_count": 226,
   "id": "022bcf8a",
   "metadata": {},
   "outputs": [
    {
     "data": {
      "text/plain": [
       "'500sqfts'"
      ]
     },
     "execution_count": 226,
     "metadata": {},
     "output_type": "execute_result"
    }
   ],
   "source": [
    "soup2.find('div', class_='mb-ldp__dtls__body__list--value').text.strip()[:8] "
   ]
  },
  {
   "cell_type": "code",
   "execution_count": null,
   "id": "d5dab329",
   "metadata": {},
   "outputs": [],
   "source": []
  }
 ],
 "metadata": {
  "kernelspec": {
   "display_name": "Python 3 (ipykernel)",
   "language": "python",
   "name": "python3"
  },
  "language_info": {
   "codemirror_mode": {
    "name": "ipython",
    "version": 3
   },
   "file_extension": ".py",
   "mimetype": "text/x-python",
   "name": "python",
   "nbconvert_exporter": "python",
   "pygments_lexer": "ipython3",
   "version": "3.10.6"
  }
 },
 "nbformat": 4,
 "nbformat_minor": 5
}
